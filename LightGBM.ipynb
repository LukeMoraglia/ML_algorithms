{
 "cells": [
  {
   "cell_type": "code",
   "execution_count": 1,
   "id": "62ffa321-0cfe-4ee6-9b22-57c6678fa240",
   "metadata": {},
   "outputs": [],
   "source": [
    "import lightgbm as lgbm\n",
    "import numpy as np\n",
    "import pandas as pd\n",
    "import matplotlib.pyplot as plt\n",
    "from sklearn.experimental import enable_iterative_imputer  # noqa\n",
    "from sklearn.impute import IterativeImputer\n",
    "from sklearn.impute import SimpleImputer\n",
    "from sklearn.pipeline import Pipeline\n",
    "from sklearn.compose import ColumnTransformer\n",
    "from sklearn.preprocessing import LabelEncoder\n",
    "from sklearn.metrics import log_loss, accuracy_score, roc_auc_score\n",
    "import time\n",
    "import warnings\n",
    "warnings.filterwarnings('ignore')"
   ]
  },
  {
   "cell_type": "code",
   "execution_count": 2,
   "id": "99a181de-de3e-4fb8-adba-a808dbaf26f6",
   "metadata": {},
   "outputs": [],
   "source": [
    "train = pd.read_csv(\"data/titanic_data/train.csv\")\n",
    "test = pd.read_csv(\"data/titanic_data/test.csv\")"
   ]
  },
  {
   "cell_type": "code",
   "execution_count": 3,
   "id": "553c120d-cdb8-44c0-ad95-e2a9eca45902",
   "metadata": {},
   "outputs": [],
   "source": [
    "train[\"isTrain\"] = True\n",
    "test[\"isTrain\"] = False\n",
    "\n",
    "tt = pd.concat([train, test]).reset_index(drop=True).copy()"
   ]
  },
  {
   "cell_type": "code",
   "execution_count": 4,
   "id": "acbf0e18-67a8-4319-afa7-b741c7e68d53",
   "metadata": {},
   "outputs": [
    {
     "data": {
      "text/html": [
       "<div>\n",
       "<style scoped>\n",
       "    .dataframe tbody tr th:only-of-type {\n",
       "        vertical-align: middle;\n",
       "    }\n",
       "\n",
       "    .dataframe tbody tr th {\n",
       "        vertical-align: top;\n",
       "    }\n",
       "\n",
       "    .dataframe thead th {\n",
       "        text-align: right;\n",
       "    }\n",
       "</style>\n",
       "<table border=\"1\" class=\"dataframe\">\n",
       "  <thead>\n",
       "    <tr style=\"text-align: right;\">\n",
       "      <th></th>\n",
       "      <th>PassengerId</th>\n",
       "      <th>Survived</th>\n",
       "      <th>Pclass</th>\n",
       "      <th>Name</th>\n",
       "      <th>Sex</th>\n",
       "      <th>Age</th>\n",
       "      <th>SibSp</th>\n",
       "      <th>Parch</th>\n",
       "      <th>Ticket</th>\n",
       "      <th>Fare</th>\n",
       "      <th>Cabin</th>\n",
       "      <th>Embarked</th>\n",
       "      <th>isTrain</th>\n",
       "    </tr>\n",
       "  </thead>\n",
       "  <tbody>\n",
       "    <tr>\n",
       "      <th>0</th>\n",
       "      <td>1</td>\n",
       "      <td>0.0</td>\n",
       "      <td>3</td>\n",
       "      <td>Braund, Mr. Owen Harris</td>\n",
       "      <td>male</td>\n",
       "      <td>22.0</td>\n",
       "      <td>1</td>\n",
       "      <td>0</td>\n",
       "      <td>A/5 21171</td>\n",
       "      <td>7.2500</td>\n",
       "      <td>NaN</td>\n",
       "      <td>S</td>\n",
       "      <td>True</td>\n",
       "    </tr>\n",
       "    <tr>\n",
       "      <th>1</th>\n",
       "      <td>2</td>\n",
       "      <td>1.0</td>\n",
       "      <td>1</td>\n",
       "      <td>Cumings, Mrs. John Bradley (Florence Briggs Th...</td>\n",
       "      <td>female</td>\n",
       "      <td>38.0</td>\n",
       "      <td>1</td>\n",
       "      <td>0</td>\n",
       "      <td>PC 17599</td>\n",
       "      <td>71.2833</td>\n",
       "      <td>C85</td>\n",
       "      <td>C</td>\n",
       "      <td>True</td>\n",
       "    </tr>\n",
       "    <tr>\n",
       "      <th>2</th>\n",
       "      <td>3</td>\n",
       "      <td>1.0</td>\n",
       "      <td>3</td>\n",
       "      <td>Heikkinen, Miss. Laina</td>\n",
       "      <td>female</td>\n",
       "      <td>26.0</td>\n",
       "      <td>0</td>\n",
       "      <td>0</td>\n",
       "      <td>STON/O2. 3101282</td>\n",
       "      <td>7.9250</td>\n",
       "      <td>NaN</td>\n",
       "      <td>S</td>\n",
       "      <td>True</td>\n",
       "    </tr>\n",
       "    <tr>\n",
       "      <th>3</th>\n",
       "      <td>4</td>\n",
       "      <td>1.0</td>\n",
       "      <td>1</td>\n",
       "      <td>Futrelle, Mrs. Jacques Heath (Lily May Peel)</td>\n",
       "      <td>female</td>\n",
       "      <td>35.0</td>\n",
       "      <td>1</td>\n",
       "      <td>0</td>\n",
       "      <td>113803</td>\n",
       "      <td>53.1000</td>\n",
       "      <td>C123</td>\n",
       "      <td>S</td>\n",
       "      <td>True</td>\n",
       "    </tr>\n",
       "    <tr>\n",
       "      <th>4</th>\n",
       "      <td>5</td>\n",
       "      <td>0.0</td>\n",
       "      <td>3</td>\n",
       "      <td>Allen, Mr. William Henry</td>\n",
       "      <td>male</td>\n",
       "      <td>35.0</td>\n",
       "      <td>0</td>\n",
       "      <td>0</td>\n",
       "      <td>373450</td>\n",
       "      <td>8.0500</td>\n",
       "      <td>NaN</td>\n",
       "      <td>S</td>\n",
       "      <td>True</td>\n",
       "    </tr>\n",
       "  </tbody>\n",
       "</table>\n",
       "</div>"
      ],
      "text/plain": [
       "   PassengerId  Survived  Pclass  \\\n",
       "0            1       0.0       3   \n",
       "1            2       1.0       1   \n",
       "2            3       1.0       3   \n",
       "3            4       1.0       1   \n",
       "4            5       0.0       3   \n",
       "\n",
       "                                                Name     Sex   Age  SibSp  \\\n",
       "0                            Braund, Mr. Owen Harris    male  22.0      1   \n",
       "1  Cumings, Mrs. John Bradley (Florence Briggs Th...  female  38.0      1   \n",
       "2                             Heikkinen, Miss. Laina  female  26.0      0   \n",
       "3       Futrelle, Mrs. Jacques Heath (Lily May Peel)  female  35.0      1   \n",
       "4                           Allen, Mr. William Henry    male  35.0      0   \n",
       "\n",
       "   Parch            Ticket     Fare Cabin Embarked  isTrain  \n",
       "0      0         A/5 21171   7.2500   NaN        S     True  \n",
       "1      0          PC 17599  71.2833   C85        C     True  \n",
       "2      0  STON/O2. 3101282   7.9250   NaN        S     True  \n",
       "3      0            113803  53.1000  C123        S     True  \n",
       "4      0            373450   8.0500   NaN        S     True  "
      ]
     },
     "execution_count": 4,
     "metadata": {},
     "output_type": "execute_result"
    }
   ],
   "source": [
    "tt.head()"
   ]
  },
  {
   "cell_type": "code",
   "execution_count": 5,
   "id": "07b2a3aa-6c1b-4500-9733-4b5d98a16ee2",
   "metadata": {},
   "outputs": [],
   "source": [
    "tt[\"Sex\"] = tt[\"Sex\"].map({\"male\": 0, \"female\": 1})"
   ]
  },
  {
   "cell_type": "code",
   "execution_count": 6,
   "id": "807d8d22-8471-4bfb-b92a-284a1efbadb2",
   "metadata": {},
   "outputs": [
    {
     "data": {
      "text/html": [
       "<div>\n",
       "<style scoped>\n",
       "    .dataframe tbody tr th:only-of-type {\n",
       "        vertical-align: middle;\n",
       "    }\n",
       "\n",
       "    .dataframe tbody tr th {\n",
       "        vertical-align: top;\n",
       "    }\n",
       "\n",
       "    .dataframe thead th {\n",
       "        text-align: right;\n",
       "    }\n",
       "</style>\n",
       "<table border=\"1\" class=\"dataframe\">\n",
       "  <thead>\n",
       "    <tr style=\"text-align: right;\">\n",
       "      <th></th>\n",
       "      <th>Pclass</th>\n",
       "      <th>Sex</th>\n",
       "      <th>Age</th>\n",
       "      <th>SibSp</th>\n",
       "      <th>Parch</th>\n",
       "      <th>Fare</th>\n",
       "    </tr>\n",
       "  </thead>\n",
       "  <tbody>\n",
       "    <tr>\n",
       "      <th>0</th>\n",
       "      <td>3</td>\n",
       "      <td>0</td>\n",
       "      <td>22.0</td>\n",
       "      <td>1</td>\n",
       "      <td>0</td>\n",
       "      <td>7.2500</td>\n",
       "    </tr>\n",
       "    <tr>\n",
       "      <th>1</th>\n",
       "      <td>1</td>\n",
       "      <td>1</td>\n",
       "      <td>38.0</td>\n",
       "      <td>1</td>\n",
       "      <td>0</td>\n",
       "      <td>71.2833</td>\n",
       "    </tr>\n",
       "    <tr>\n",
       "      <th>2</th>\n",
       "      <td>3</td>\n",
       "      <td>1</td>\n",
       "      <td>26.0</td>\n",
       "      <td>0</td>\n",
       "      <td>0</td>\n",
       "      <td>7.9250</td>\n",
       "    </tr>\n",
       "    <tr>\n",
       "      <th>3</th>\n",
       "      <td>1</td>\n",
       "      <td>1</td>\n",
       "      <td>35.0</td>\n",
       "      <td>1</td>\n",
       "      <td>0</td>\n",
       "      <td>53.1000</td>\n",
       "    </tr>\n",
       "    <tr>\n",
       "      <th>4</th>\n",
       "      <td>3</td>\n",
       "      <td>0</td>\n",
       "      <td>35.0</td>\n",
       "      <td>0</td>\n",
       "      <td>0</td>\n",
       "      <td>8.0500</td>\n",
       "    </tr>\n",
       "  </tbody>\n",
       "</table>\n",
       "</div>"
      ],
      "text/plain": [
       "  Pclass Sex   Age  SibSp  Parch     Fare\n",
       "0      3   0  22.0      1      0   7.2500\n",
       "1      1   1  38.0      1      0  71.2833\n",
       "2      3   1  26.0      0      0   7.9250\n",
       "3      1   1  35.0      1      0  53.1000\n",
       "4      3   0  35.0      0      0   8.0500"
      ]
     },
     "execution_count": 6,
     "metadata": {},
     "output_type": "execute_result"
    }
   ],
   "source": [
    "inputs = [\"Pclass\", \"Sex\", \"Age\", \"SibSp\", \"Parch\", \"Fare\"]\n",
    "cat_inputs = [\"Pclass\", \"Sex\"]\n",
    "num_inputs = [\"Age\", \"SibSp\", \"Parch\", \"Fare\"]\n",
    "\n",
    "cat_idx = [train[inputs].columns.get_loc(col) for col in cat_inputs]\n",
    "\n",
    "# Convert cat_features to pd.Categorical dtype\n",
    "for col in cat_inputs:\n",
    "    tt[col] = pd.Categorical(tt[col])\n",
    "\n",
    "tt[inputs].head()"
   ]
  },
  {
   "cell_type": "code",
   "execution_count": 7,
   "id": "4167ed45-c6d0-4a6c-ad3a-825fd473f56e",
   "metadata": {},
   "outputs": [
    {
     "data": {
      "text/plain": [
       "((891, 13), (418, 12), (1309, 13))"
      ]
     },
     "execution_count": 7,
     "metadata": {},
     "output_type": "execute_result"
    }
   ],
   "source": [
    "train.shape, test.shape, tt.shape"
   ]
  },
  {
   "cell_type": "code",
   "execution_count": 8,
   "id": "875eae57-2c4f-462e-b2b2-7adceeaa743d",
   "metadata": {},
   "outputs": [
    {
     "data": {
      "text/plain": [
       "Pclass      0\n",
       "Sex         0\n",
       "Age       263\n",
       "SibSp       0\n",
       "Parch       0\n",
       "Fare        1\n",
       "dtype: int64"
      ]
     },
     "execution_count": 8,
     "metadata": {},
     "output_type": "execute_result"
    }
   ],
   "source": [
    "tt[inputs].isna().sum()"
   ]
  },
  {
   "cell_type": "code",
   "execution_count": 9,
   "id": "72b761f2-5d8c-4fa3-a28a-29a8aa1f2968",
   "metadata": {},
   "outputs": [],
   "source": [
    "cat_preproc_pipe = Pipeline([(\"imp\", SimpleImputer(strategy=\"most_frequent\")), (\"encoder\", LabelEncoder())])\n",
    "num_preproc_pipe = Pipeline([(\"imp\", IterativeImputer())])"
   ]
  },
  {
   "cell_type": "code",
   "execution_count": 10,
   "id": "21509cef-9943-410d-97a7-2de4c2394f9e",
   "metadata": {},
   "outputs": [],
   "source": [
    "preprocessor = ColumnTransformer(\n",
    "    transformers=[\n",
    "        ('num', num_preproc_pipe, num_inputs),\n",
    "        ('cat', cat_preproc_pipe, cat_inputs)\n",
    "    ]\n",
    ")"
   ]
  },
  {
   "cell_type": "code",
   "execution_count": 11,
   "id": "bf4dea7b-8491-4152-864e-643df391668b",
   "metadata": {},
   "outputs": [],
   "source": [
    "clf = lgbm.LGBMClassifier()"
   ]
  },
  {
   "cell_type": "code",
   "execution_count": 12,
   "id": "6f77ea1b-4dd0-4518-95e4-6852796ba786",
   "metadata": {},
   "outputs": [],
   "source": [
    "train = tt[tt[\"isTrain\"]]\n",
    "test = tt[~tt[\"isTrain\"]]"
   ]
  },
  {
   "cell_type": "code",
   "execution_count": 13,
   "id": "526b0ff6-2e7e-4916-8560-6701b537e417",
   "metadata": {},
   "outputs": [],
   "source": [
    "baseline_pipe = Pipeline([(\"imp\", IterativeImputer()),\n",
    "                          (\"clf\", clf)])"
   ]
  },
  {
   "cell_type": "code",
   "execution_count": 14,
   "id": "1c771f57-c034-4fda-bfa4-eb88f3e391ba",
   "metadata": {},
   "outputs": [
    {
     "name": "stdout",
     "output_type": "stream",
     "text": [
      "logloss: 0.15894\n",
      "roc_auc: 0.99093\n",
      "CPU times: total: 1.17 s\n",
      "Wall time: 297 ms\n"
     ]
    }
   ],
   "source": [
    "%%time\n",
    "fit_params = {\"clf__categorical_feature\":cat_inputs,\n",
    "              \"clf__feature_name\":inputs}\n",
    "baseline_pipe.fit(train[inputs], y=train[\"Survived\"], **fit_params)\n",
    "\n",
    "preds = baseline_pipe.predict_proba(train[inputs])[:,1]\n",
    "#print(preds)\n",
    "loss = log_loss(train[\"Survived\"], preds)\n",
    "roc_auc = roc_auc_score(train[\"Survived\"], preds)\n",
    "#accuracy = accuracy_score(train[\"Survived\"], preds)\n",
    "print(f\"logloss: {loss:.5f}\")\n",
    "print(f\"roc_auc: {roc_auc:.5f}\")\n"
   ]
  },
  {
   "cell_type": "code",
   "execution_count": 15,
   "id": "269f70c2-ab55-4198-973a-11502d38a925",
   "metadata": {},
   "outputs": [
    {
     "name": "stdout",
     "output_type": "stream",
     "text": [
      "============Training fold 0============\n",
      "logloss: 0.61809\n",
      "roc_auc: 0.83066\n",
      "Fold 0 finished with score: 0.61809 in 0.19 seconds.\n",
      "\n",
      "============Training fold 1============\n",
      "logloss: 0.39990\n",
      "roc_auc: 0.90429\n",
      "Fold 1 finished with score: 0.39990 in 0.14 seconds.\n",
      "\n",
      "============Training fold 2============\n",
      "logloss: 0.31262\n",
      "roc_auc: 0.92524\n",
      "Fold 2 finished with score: 0.31262 in 0.17 seconds.\n",
      "\n",
      "============Training fold 3============\n",
      "logloss: 0.44455\n",
      "roc_auc: 0.87781\n",
      "Fold 3 finished with score: 0.44455 in 0.17 seconds.\n",
      "\n",
      "============Training fold 4============\n",
      "logloss: 0.52153\n",
      "roc_auc: 0.84563\n",
      "Fold 4 finished with score: 0.52153 in 0.18 seconds.\n",
      "\n",
      "============Training fold 5============\n",
      "logloss: 0.51910\n",
      "roc_auc: 0.84956\n",
      "Fold 5 finished with score: 0.51910 in 0.17 seconds.\n",
      "\n",
      "============Training fold 6============\n",
      "logloss: 0.41729\n",
      "roc_auc: 0.88161\n",
      "Fold 6 finished with score: 0.41729 in 0.18 seconds.\n",
      "\n"
     ]
    }
   ],
   "source": [
    "from sklearn.model_selection import StratifiedKFold\n",
    "\n",
    "N_SPLITS = 7\n",
    "strat_kf = StratifiedKFold(n_splits=N_SPLITS, shuffle=True, random_state=1121218)\n",
    "\n",
    "scores = np.empty(N_SPLITS)\n",
    "X, y = train[inputs], train[\"Survived\"]\n",
    "for idx, (train_idx, test_idx) in enumerate(strat_kf.split(X, y)):\n",
    "    print(\"=\" * 12 + f\"Training fold {idx}\" + 12 * \"=\")\n",
    "    start = time.time()\n",
    "\n",
    "    X_train, X_val = X.iloc[train_idx], X.iloc[test_idx]\n",
    "    y_train, y_val = y[train_idx], y[test_idx]\n",
    "    eval_set = [(X_val, y_val)]\n",
    "    \n",
    "    fit_params = {\"clf__categorical_feature\":cat_inputs,\n",
    "                  \"clf__feature_name\":inputs,\n",
    "                  \"clf__eval_metric\":\"binary_logloss\"}\n",
    "    \n",
    "    baseline_pipe.fit(X_train, y_train, **fit_params)\n",
    "    \n",
    "    preds = baseline_pipe.predict_proba(X_val)[:,1]\n",
    "    loss = log_loss(y_val, preds)\n",
    "    roc_auc = roc_auc_score(y_val, preds)\n",
    "    #accuracy = accuracy_score(train[\"Survived\"], preds)\n",
    "    print(f\"logloss: {loss:.5f}\")\n",
    "    print(f\"roc_auc: {roc_auc:.5f}\")\n",
    "    runtime = time.time() - start\n",
    "    print(f\"Fold {idx} finished with score: {loss:.5f} in {runtime:.2f} seconds.\\n\")"
   ]
  },
  {
   "cell_type": "code",
   "execution_count": null,
   "id": "ac214854-8cec-48a5-adf9-f4d3f18e0e69",
   "metadata": {},
   "outputs": [],
   "source": []
  }
 ],
 "metadata": {
  "kernelspec": {
   "display_name": "venv_ml",
   "language": "python",
   "name": "venv_ml"
  },
  "language_info": {
   "codemirror_mode": {
    "name": "ipython",
    "version": 3
   },
   "file_extension": ".py",
   "mimetype": "text/x-python",
   "name": "python",
   "nbconvert_exporter": "python",
   "pygments_lexer": "ipython3",
   "version": "3.9.1"
  }
 },
 "nbformat": 4,
 "nbformat_minor": 5
}
